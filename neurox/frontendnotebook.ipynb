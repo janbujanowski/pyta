{
 "cells": [
  {
   "cell_type": "code",
   "execution_count": 2,
   "metadata": {},
   "outputs": [
    {
     "data": {
      "image/png": "[encoded data removed]",
      "text/plain": [
       "<Figure size 640x480 with 1 Axes>"
      ]
     },
     "metadata": {},
     "output_type": "display_data"
    }
   ],
   "source": [
    "import pandas as pd\n",
    "import matplotlib.pyplot as plt\n",
    "import json\n",
    "\n",
    "\n",
    "file = open(\"data/BTCEUR-1h.json\",\"rt\", encoding=\"utf-8\")\n",
    "fileContent = file.read()\n",
    "dataset = json.loads(fileContent)\n",
    "file.close()\n",
    "open = []\n",
    "close = []\n",
    "high = []\n",
    "low = []\n",
    "\n",
    "for entry in dataset:\n",
    "    open.append(entry['rate_open'])\n",
    "    close.append(entry['rate_close'])    \n",
    "    high.append(entry['rate_high'])    \n",
    "    low.append(entry['rate_low'])    \n",
    "\n",
    "periods = len(open)\n",
    "\n",
    "stock_prices = pd.DataFrame({'open': open,\n",
    "                             'close': close,\n",
    "                             'high': high,\n",
    "                             'low': low},\n",
    "                            index=pd.date_range(\n",
    "                              \"2021-11-10\", periods=100, freq=\"d\"))\n",
    "\n",
    "\n",
    "plt.figure()\n",
    "  \n",
    "# \"up\" dataframe will store the stock_prices \n",
    "# when the closing stock price is greater\n",
    "# than or equal to the opening stock prices\n",
    "up = stock_prices[stock_prices.close >= stock_prices.open]\n",
    "  \n",
    "# \"down\" dataframe will store the stock_prices\n",
    "# when the closing stock price is\n",
    "# lesser than the opening stock prices\n",
    "down = stock_prices[stock_prices.close < stock_prices.open]\n",
    "  \n",
    "# When the stock prices have decreased, then it\n",
    "# will be represented by blue color candlestick\n",
    "col1 = 'blue'\n",
    "  \n",
    "# When the stock prices have increased, then it \n",
    "# will be represented by green color candlestick\n",
    "col2 = 'green'\n",
    "  \n",
    "# Setting width of candlestick elements\n",
    "width = .3\n",
    "width2 = .03\n",
    "  \n",
    "# Plotting up prices of the stock\n",
    "plt.bar(up.index, up.close-up.open, width, bottom=up.open, color=col1)\n",
    "plt.bar(up.index, up.high-up.close, width2, bottom=up.close, color=col1)\n",
    "plt.bar(up.index, up.low-up.open, width2, bottom=up.open, color=col1)\n",
    "  \n",
    "# Plotting down prices of the stock\n",
    "plt.bar(down.index, down.close-down.open, width, bottom=down.open, color=col2)\n",
    "plt.bar(down.index, down.high-down.open, width2, bottom=down.open, color=col2)\n",
    "plt.bar(down.index, down.low-down.close, width2, bottom=down.close, color=col2)\n",
    "  \n",
    "# rotating the x-axis tick labels at 30degree \n",
    "# towards right\n",
    "plt.xticks(rotation=30, ha='right')\n",
    "  \n",
    "# displaying candlestick chart of stock data \n",
    "# of a week\n",
    "plt.show()\n",
    "%reset"
   ]
  }
 ],
 "metadata": {
  "kernelspec": {
   "display_name": "Python 3",
   "language": "python",
   "name": "python3"
  },
  "language_info": {
   "codemirror_mode": {
    "name": "ipython",
    "version": 3
   },
   "file_extension": ".py",
   "mimetype": "text/x-python",
   "name": "python",
   "nbconvert_exporter": "python",
   "pygments_lexer": "ipython3",
   "version": "3.10.8"
  },
  "orig_nbformat": 4
 },
 "nbformat": 4,
 "nbformat_minor": 2
}
